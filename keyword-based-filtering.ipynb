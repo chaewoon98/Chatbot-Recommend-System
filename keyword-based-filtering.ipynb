{
 "cells": [
  {
   "cell_type": "code",
   "execution_count": 1,
   "id": "0b0fdfcf",
   "metadata": {},
   "outputs": [],
   "source": [
    "import pandas as pd\n",
    "from sklearn.feature_extraction.text import TfidfVectorizer\n",
    "from sklearn.metrics.pairwise import cosine_similarity"
   ]
  },
  {
   "cell_type": "code",
   "execution_count": 2,
   "id": "2cba1b63",
   "metadata": {},
   "outputs": [
    {
     "data": {
      "text/plain": [
       "['문자열 사용 방법 알려 주세요.', '문자열 초기화 방법 몰라. 문자열 출력은 어떻게 해?']"
      ]
     },
     "execution_count": 2,
     "metadata": {},
     "output_type": "execute_result"
    }
   ],
   "source": [
    "from konlpy.tag import Kkma\n",
    "kkma = Kkma()\n",
    "#문단 -> 문장\n",
    "para = \"문자열 사용 방법 알려주세요. 문자열 초기화 방법 몰라. 문자열 출력은 어떻게 해?\"\n",
    "ex_sent = kkma.sentences(para)\n",
    "len(ex_sent) #문장 2개\n",
    "ex_sent"
   ]
  },
  {
   "cell_type": "code",
   "execution_count": 3,
   "id": "8e317da7",
   "metadata": {},
   "outputs": [
    {
     "data": {
      "text/plain": [
       "['문자열', '사용', '문자열', '초기화', '출력']"
      ]
     },
     "execution_count": 3,
     "metadata": {},
     "output_type": "execute_result"
    }
   ],
   "source": [
    "# 문장 -> 단어(nouns)\n",
    "from re import match\n",
    "nouns = []\n",
    "for sent in ex_sent:\n",
    "    for noun in kkma.nouns(sent):\n",
    "        if len(str(noun)) >= 2 and (match('[^방법]', noun)) :\n",
    "            nouns.append(noun)\n",
    "    \n",
    "nouns"
   ]
  },
  {
   "cell_type": "code",
   "execution_count": 2,
   "id": "6c080cf1",
   "metadata": {},
   "outputs": [
    {
     "data": {
      "text/html": [
       "<div>\n",
       "<style scoped>\n",
       "    .dataframe tbody tr th:only-of-type {\n",
       "        vertical-align: middle;\n",
       "    }\n",
       "\n",
       "    .dataframe tbody tr th {\n",
       "        vertical-align: top;\n",
       "    }\n",
       "\n",
       "    .dataframe thead th {\n",
       "        text-align: right;\n",
       "    }\n",
       "</style>\n",
       "<table border=\"1\" class=\"dataframe\">\n",
       "  <thead>\n",
       "    <tr style=\"text-align: right;\">\n",
       "      <th></th>\n",
       "      <th>keywords</th>\n",
       "    </tr>\n",
       "  </thead>\n",
       "  <tbody>\n",
       "    <tr>\n",
       "      <th>0</th>\n",
       "      <td>{'문자열', '출력'}</td>\n",
       "    </tr>\n",
       "    <tr>\n",
       "      <th>1</th>\n",
       "      <td>{'문자열', '초기화'}</td>\n",
       "    </tr>\n",
       "    <tr>\n",
       "      <th>2</th>\n",
       "      <td>{'조건문', 'if'}</td>\n",
       "    </tr>\n",
       "    <tr>\n",
       "      <th>3</th>\n",
       "      <td>{'조건문', 'if', 'else'}</td>\n",
       "    </tr>\n",
       "    <tr>\n",
       "      <th>4</th>\n",
       "      <td>{'조건문', 'else'}</td>\n",
       "    </tr>\n",
       "  </tbody>\n",
       "</table>\n",
       "</div>"
      ],
      "text/plain": [
       "                keywords\n",
       "0          {'문자열', '출력'}\n",
       "1         {'문자열', '초기화'}\n",
       "2          {'조건문', 'if'}\n",
       "3  {'조건문', 'if', 'else'}\n",
       "4        {'조건문', 'else'}"
      ]
     },
     "execution_count": 2,
     "metadata": {},
     "output_type": "execute_result"
    }
   ],
   "source": [
    "data = pd.read_csv('C:/Users/user/Desktop/recommend_dataset.csv', low_memory=False)\n",
    "data[['genres']].head()\n",
    "data[['keywords']].head()"
   ]
  },
  {
   "cell_type": "code",
   "execution_count": 3,
   "id": "4f83d551",
   "metadata": {},
   "outputs": [
    {
     "data": {
      "text/html": [
       "<div>\n",
       "<style scoped>\n",
       "    .dataframe tbody tr th:only-of-type {\n",
       "        vertical-align: middle;\n",
       "    }\n",
       "\n",
       "    .dataframe tbody tr th {\n",
       "        vertical-align: top;\n",
       "    }\n",
       "\n",
       "    .dataframe thead th {\n",
       "        text-align: right;\n",
       "    }\n",
       "</style>\n",
       "<table border=\"1\" class=\"dataframe\">\n",
       "  <thead>\n",
       "    <tr style=\"text-align: right;\">\n",
       "      <th></th>\n",
       "      <th>keywords</th>\n",
       "    </tr>\n",
       "  </thead>\n",
       "  <tbody>\n",
       "    <tr>\n",
       "      <th>0</th>\n",
       "      <td>{출력, 문자열}</td>\n",
       "    </tr>\n",
       "    <tr>\n",
       "      <th>1</th>\n",
       "      <td>{초기화, 문자열}</td>\n",
       "    </tr>\n",
       "    <tr>\n",
       "      <th>2</th>\n",
       "      <td>{조건문, if}</td>\n",
       "    </tr>\n",
       "    <tr>\n",
       "      <th>3</th>\n",
       "      <td>{조건문, if, else}</td>\n",
       "    </tr>\n",
       "    <tr>\n",
       "      <th>4</th>\n",
       "      <td>{조건문, else}</td>\n",
       "    </tr>\n",
       "  </tbody>\n",
       "</table>\n",
       "</div>"
      ],
      "text/plain": [
       "          keywords\n",
       "0        {출력, 문자열}\n",
       "1       {초기화, 문자열}\n",
       "2        {조건문, if}\n",
       "3  {조건문, if, else}\n",
       "4      {조건문, else}"
      ]
     },
     "execution_count": 3,
     "metadata": {},
     "output_type": "execute_result"
    }
   ],
   "source": [
    "import ast as ast\n",
    "data['genres'] = data['genres'].apply(ast.literal_eval)\n",
    "data[['genres']].head()\n",
    "\n",
    "data['keywords'] = data['keywords'].apply(ast.literal_eval)\n",
    "data[['keywords']].head()"
   ]
  },
  {
   "cell_type": "code",
   "execution_count": 5,
   "id": "6711bec1",
   "metadata": {
    "scrolled": false
   },
   "outputs": [
    {
     "data": {
      "text/html": [
       "<div>\n",
       "<style scoped>\n",
       "    .dataframe tbody tr th:only-of-type {\n",
       "        vertical-align: middle;\n",
       "    }\n",
       "\n",
       "    .dataframe tbody tr th {\n",
       "        vertical-align: top;\n",
       "    }\n",
       "\n",
       "    .dataframe thead th {\n",
       "        text-align: right;\n",
       "    }\n",
       "</style>\n",
       "<table border=\"1\" class=\"dataframe\">\n",
       "  <thead>\n",
       "    <tr style=\"text-align: right;\">\n",
       "      <th></th>\n",
       "      <th>ques_id</th>\n",
       "      <th>ques_content</th>\n",
       "      <th>language</th>\n",
       "      <th>category</th>\n",
       "      <th>sub_category</th>\n",
       "      <th>keywords_origin</th>\n",
       "      <th>keywords</th>\n",
       "      <th>genres</th>\n",
       "    </tr>\n",
       "  </thead>\n",
       "  <tbody>\n",
       "    <tr>\n",
       "      <th>0</th>\n",
       "      <td>1</td>\n",
       "      <td>문자열 출력 방법</td>\n",
       "      <td>C</td>\n",
       "      <td>문자열</td>\n",
       "      <td>출력</td>\n",
       "      <td>문자열, 출력</td>\n",
       "      <td>출력 문자열</td>\n",
       "      <td>Animation Comedy Family</td>\n",
       "    </tr>\n",
       "    <tr>\n",
       "      <th>1</th>\n",
       "      <td>2</td>\n",
       "      <td>문자열 초기화</td>\n",
       "      <td>C</td>\n",
       "      <td>문자열</td>\n",
       "      <td>초기화</td>\n",
       "      <td>문자열, 초기화</td>\n",
       "      <td>초기화 문자열</td>\n",
       "      <td>Adventure Fantasy Family</td>\n",
       "    </tr>\n",
       "    <tr>\n",
       "      <th>2</th>\n",
       "      <td>3</td>\n",
       "      <td>if 문</td>\n",
       "      <td>C</td>\n",
       "      <td>조건문</td>\n",
       "      <td>NaN</td>\n",
       "      <td>조건문</td>\n",
       "      <td>조건문 if</td>\n",
       "      <td>Romance Comedy</td>\n",
       "    </tr>\n",
       "    <tr>\n",
       "      <th>3</th>\n",
       "      <td>4</td>\n",
       "      <td>if else문</td>\n",
       "      <td>C</td>\n",
       "      <td>조건문</td>\n",
       "      <td>NaN</td>\n",
       "      <td>조건문</td>\n",
       "      <td>조건문 if else</td>\n",
       "      <td>Comedy Drama Romance</td>\n",
       "    </tr>\n",
       "    <tr>\n",
       "      <th>4</th>\n",
       "      <td>5</td>\n",
       "      <td>else 문</td>\n",
       "      <td>C</td>\n",
       "      <td>조건문</td>\n",
       "      <td>NaN</td>\n",
       "      <td>조건문</td>\n",
       "      <td>조건문 else</td>\n",
       "      <td>Comedy</td>\n",
       "    </tr>\n",
       "  </tbody>\n",
       "</table>\n",
       "</div>"
      ],
      "text/plain": [
       "   ques_id ques_content language category sub_category keywords_origin  \\\n",
       "0        1    문자열 출력 방법        C      문자열           출력         문자열, 출력   \n",
       "1        2      문자열 초기화        C      문자열          초기화        문자열, 초기화   \n",
       "2        3         if 문        C      조건문          NaN             조건문   \n",
       "3        4     if else문        C      조건문          NaN             조건문   \n",
       "4        5       else 문        C      조건문          NaN             조건문   \n",
       "\n",
       "      keywords                    genres  \n",
       "0       출력 문자열   Animation Comedy Family  \n",
       "1      초기화 문자열  Adventure Fantasy Family  \n",
       "2       조건문 if            Romance Comedy  \n",
       "3  조건문 if else      Comedy Drama Romance  \n",
       "4     조건문 else                    Comedy  "
      ]
     },
     "execution_count": 5,
     "metadata": {},
     "output_type": "execute_result"
    }
   ],
   "source": [
    "data['genres'] = data['genres'].apply(lambda x:[d['name'] for d in x]).apply(lambda x:\" \".join(x))\n",
    "data['keywords'] = data['keywords'].apply(lambda x:[d for d in x]).apply(lambda x:\" \".join(x))\n",
    "data.head()"
   ]
  },
  {
   "cell_type": "code",
   "execution_count": 6,
   "id": "55ca39f1",
   "metadata": {
    "scrolled": true
   },
   "outputs": [
    {
     "name": "stdout",
     "output_type": "stream",
     "text": [
      "(17, 11)\n"
     ]
    }
   ],
   "source": [
    "#keywords에 대해 tf-idf 수행\n",
    "\n",
    "tfidf = TfidfVectorizer()\n",
    "tfidf_matrix = tfidf.fit_transform(data['keywords'])\n",
    "print(tfidf_matrix.shape)"
   ]
  },
  {
   "cell_type": "code",
   "execution_count": 7,
   "id": "a7a18840",
   "metadata": {},
   "outputs": [
    {
     "name": "stdout",
     "output_type": "stream",
     "text": [
      "[[1.         0.34137367 0.         0.         0.         0.\n",
      "  0.39080903 0.         0.         0.27571797 0.         1.\n",
      "  1.         1.         1.         1.         1.        ]\n",
      " [0.34137367 1.         0.         0.         0.         0.\n",
      "  0.         0.         0.         0.         0.         0.34137367\n",
      "  0.34137367 0.34137367 0.34137367 0.34137367 0.34137367]\n",
      " [0.         0.         1.         0.79064598 0.40030986 0.36745114\n",
      "  0.         0.         0.         0.         0.         0.\n",
      "  0.         0.         0.         0.         0.        ]\n",
      " [0.         0.         0.79064598 1.         0.79064598 0.29052376\n",
      "  0.         0.         0.         0.         0.         0.\n",
      "  0.         0.         0.         0.         0.        ]\n",
      " [0.         0.         0.40030986 0.79064598 1.         0.36745114\n",
      "  0.         0.         0.         0.         0.         0.\n",
      "  0.         0.         0.         0.         0.        ]\n",
      " [0.         0.         0.36745114 0.29052376 0.36745114 1.\n",
      "  0.         0.         0.         0.         0.         0.\n",
      "  0.         0.         0.         0.         0.        ]\n",
      " [0.39080903 0.         0.         0.         0.         0.\n",
      "  1.         0.55267812 0.         0.70550564 0.42648631 0.39080903\n",
      "  0.39080903 0.39080903 0.39080903 0.39080903 0.39080903]\n",
      " [0.         0.         0.         0.         0.         0.\n",
      "  0.55267812 1.         0.45583809 0.38991753 0.77167214 0.\n",
      "  0.         0.         0.         0.         0.        ]\n",
      " [0.         0.         0.         0.         0.         0.\n",
      "  0.         0.45583809 1.         0.         0.35175755 0.\n",
      "  0.         0.         0.         0.         0.        ]\n",
      " [0.27571797 0.         0.         0.         0.         0.\n",
      "  0.70550564 0.38991753 0.         1.         0.75163898 0.27571797\n",
      "  0.27571797 0.27571797 0.27571797 0.27571797 0.27571797]\n",
      " [0.         0.         0.         0.         0.         0.\n",
      "  0.42648631 0.77167214 0.35175755 0.75163898 1.         0.\n",
      "  0.         0.         0.         0.         0.        ]\n",
      " [1.         0.34137367 0.         0.         0.         0.\n",
      "  0.39080903 0.         0.         0.27571797 0.         1.\n",
      "  1.         1.         1.         1.         1.        ]\n",
      " [1.         0.34137367 0.         0.         0.         0.\n",
      "  0.39080903 0.         0.         0.27571797 0.         1.\n",
      "  1.         1.         1.         1.         1.        ]\n",
      " [1.         0.34137367 0.         0.         0.         0.\n",
      "  0.39080903 0.         0.         0.27571797 0.         1.\n",
      "  1.         1.         1.         1.         1.        ]\n",
      " [1.         0.34137367 0.         0.         0.         0.\n",
      "  0.39080903 0.         0.         0.27571797 0.         1.\n",
      "  1.         1.         1.         1.         1.        ]\n",
      " [1.         0.34137367 0.         0.         0.         0.\n",
      "  0.39080903 0.         0.         0.27571797 0.         1.\n",
      "  1.         1.         1.         1.         1.        ]\n",
      " [1.         0.34137367 0.         0.         0.         0.\n",
      "  0.39080903 0.         0.         0.27571797 0.         1.\n",
      "  1.         1.         1.         1.         1.        ]]\n",
      "ques_content\n",
      "문자열 출력 방법    0\n",
      "문자열 초기화      1\n",
      "if 문         2\n",
      "if else문     3\n",
      "else 문       4\n",
      "dtype: int64\n",
      "2\n"
     ]
    }
   ],
   "source": [
    "#코사인 유사도 구하기\n",
    "cosine_sim = cosine_similarity(tfidf_matrix, tfidf_matrix)\n",
    "print(cosine_sim)\n",
    "\n",
    "indices = pd.Series(data.index, index=data['ques_content']).drop_duplicates()\n",
    "print(indices.head())\n",
    "\n",
    "idx = indices['if 문']\n",
    "print(idx)"
   ]
  },
  {
   "cell_type": "code",
   "execution_count": 8,
   "id": "5ec55965",
   "metadata": {},
   "outputs": [],
   "source": [
    "#사용자의 질문에 대해 코사인 유사도를 이용하여\n",
    "#가장 유사도가 비슷한 질문을 찾아내는 함수\n",
    "def get_recommendations(question):\n",
    "    #선택한 질문의 인덱스 구하기\n",
    "    idx = indices[question]\n",
    "    \n",
    "    #모든 질문에 대해 해당 질문과의 유사도 구하기\n",
    "    sim_scores = list(enumerate(cosine_sim[idx]))\n",
    "    \n",
    "    #유사도에 따라 질문들 정렬\n",
    "    sim_scores = sorted(sim_scores, key=lambda x: x[1], reverse=True)\n",
    "    \n",
    "    #가장 유사한 5개 질문 받아오기\n",
    "    sim_scores = sim_scores[1:5]\n",
    "    \n",
    "    #가장 유사한 5개의 질문의 인덱스 받아오기\n",
    "    ques_indices = [i[0] for i in sim_scores]\n",
    "    \n",
    "    #가장 유사한 5개의 질문 리턴\n",
    "    return data['ques_content'].iloc[ques_indices]"
   ]
  },
  {
   "cell_type": "code",
   "execution_count": 9,
   "id": "77e18ac5",
   "metadata": {
    "scrolled": true
   },
   "outputs": [
    {
     "data": {
      "text/plain": [
       "10      for문 종료\n",
       "6       반복문 출력 \n",
       "8     while문 종료\n",
       "9       for문 출력\n",
       "Name: ques_content, dtype: object"
      ]
     },
     "execution_count": 9,
     "metadata": {},
     "output_type": "execute_result"
    }
   ],
   "source": [
    "# '반복문 종료' 과 비슷한 질문들 찾기\n",
    "get_recommendations('반복문 종료')"
   ]
  },
  {
   "cell_type": "code",
   "execution_count": null,
   "id": "afddd11e",
   "metadata": {},
   "outputs": [],
   "source": []
  }
 ],
 "metadata": {
  "kernelspec": {
   "display_name": "Python 3 (ipykernel)",
   "language": "python",
   "name": "python3"
  },
  "language_info": {
   "codemirror_mode": {
    "name": "ipython",
    "version": 3
   },
   "file_extension": ".py",
   "mimetype": "text/x-python",
   "name": "python",
   "nbconvert_exporter": "python",
   "pygments_lexer": "ipython3",
   "version": "3.8.12"
  }
 },
 "nbformat": 4,
 "nbformat_minor": 5
}
